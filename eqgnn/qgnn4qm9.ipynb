{
 "cells": [
  {
   "cell_type": "code",
   "execution_count": 1,
   "metadata": {},
   "outputs": [
    {
     "name": "stdout",
     "output_type": "stream",
     "text": [
      "D:\\qml\\edm_key_files\\eqgnn\n"
     ]
    }
   ],
   "source": [
    "import os\n",
    "import sys\n",
    "path = \"D:\\qml\\edm_key_files\\eqgnn\"\n",
    "directory = path\n",
    "os.chdir(directory)\n",
    "sys.path.append(os.path.abspath(\"D:\\qml\\edm_key_files\\eqgnn\"))\n",
    "print(os.getcwd())"
   ]
  },
  {
   "cell_type": "code",
   "execution_count": 3,
   "metadata": {},
   "outputs": [
    {
     "name": "stdout",
     "output_type": "stream",
     "text": [
      "Device:  cuda\n"
     ]
    },
    {
     "data": {
      "text/plain": [
       "<torch._C.Generator at 0x2898ffb9450>"
      ]
     },
     "execution_count": 3,
     "metadata": {},
     "output_type": "execute_result"
    }
   ],
   "source": [
    "import pennylane as qml\n",
    "from pennylane import numpy as np\n",
    "import matplotlib.pyplot as plt\n",
    "import scipy\n",
    "import networkx as nx\n",
    "import copy\n",
    "import random\n",
    "\n",
    "# from numpy.random import default_rng\n",
    "import pandas as pd\n",
    "from tqdm import tqdm\n",
    "from time import time\n",
    "import os\n",
    "import copy\n",
    "from particle import Particle\n",
    "# from sklearn.model_selection import train_test_split\n",
    "from preprocess import *\n",
    "\n",
    "import torch\n",
    "from torch import nn as nn\n",
    "# from torch.utils.data import TensorDataset, DataLoader, Dataset\n",
    "from torchvision import datasets\n",
    "from torchvision.transforms import ToTensor\n",
    "from torch.nn import Linear\n",
    "import torch.nn.functional as F\n",
    "from scipy import stats\n",
    "from sklearn.metrics import roc_curve, roc_auc_score\n",
    "\n",
    "\n",
    "from torch_geometric.data import Data\n",
    "from torch_geometric.loader import DataLoader\n",
    "from torch_geometric.data import Dataset, InMemoryDataset, download_url\n",
    "# from torch_geometric.nn import GCNConv\n",
    "# from torch_geometric.nn import GATConv\n",
    "# from torch_geometric.nn import Sequential\n",
    "# from torch_geometric import nn\n",
    "# from torch_geometric.nn import global_mean_pool\n",
    "\n",
    "\n",
    "torch.set_default_dtype(torch.float64)\n",
    "device = \"cuda\" if torch.cuda.is_available() else \"cpu\"\n",
    "print('Device: ',device)\n",
    "\n",
    "np.random.seed(0)\n",
    "torch.manual_seed(0)"
   ]
  },
  {
   "cell_type": "code",
   "execution_count": 5,
   "metadata": {},
   "outputs": [],
   "source": [
    "path = 'data/'\n",
    "plot_path = 'plots/'"
   ]
  },
  {
   "cell_type": "code",
   "execution_count": 6,
   "metadata": {},
   "outputs": [],
   "source": [
    "N=100\n",
    "x10_sorted_12500 = np.load(path+'train_wt_h.npy')[:N]\n",
    "y10_sorted_12500 = np.load(path+'random_train_labels.npy')[:N]"
   ]
  },
  {
   "cell_type": "code",
   "execution_count": 8,
   "metadata": {},
   "outputs": [],
   "source": [
    "def preprocess_molecular_data_quantum(x_data, y_data, nodes_per_graph=3):\n",
    "    \"\"\"\n",
    "    预处理分子图数据并生成量子哈密顿量。\n",
    "    \n",
    "    参数:\n",
    "        x_data (np.ndarray): 分子图数据，形状为 (num_molecules, 9, 4)。\n",
    "        y_data (np.ndarray): 分子标签，形状为 (num_molecules,)。\n",
    "        nodes_per_graph (int): 每个分子图中使用的最大节点数。\n",
    "    \n",
    "    返回:\n",
    "        x_data (torch.Tensor): 处理后的分子图数据。\n",
    "        y_data (torch.Tensor): 分子标签。\n",
    "        edge_tensor (torch.Tensor): 边张量。\n",
    "        edge_indx_tensor (torch.Tensor): 边索引张量。\n",
    "        edge_attr_matrix (torch.Tensor): 边属性矩阵。\n",
    "        graph_help (torch.Tensor): 辅助图信息。\n",
    "        quantum_hamiltonians (torch.Tensor): 量子哈密顿量。\n",
    "    \"\"\"\n",
    "    print('--- Preprocessing Molecular Data ---')\n",
    "    x_data = torch.tensor(x_data, dtype=torch.float32)\n",
    "    y_data = torch.tensor(y_data, dtype=torch.float32)\n",
    "\n",
    "    x_data_max = x_data.max(dim=1).values.max(dim=0).values\n",
    "    x_data = x_data / x_data_max\n",
    "\n",
    "    print()\n",
    "    print('--- Calculating Edge Tensors ---')\n",
    "    N = x_data.shape[0]\n",
    "    M = nodes_per_graph\n",
    "    connections = nodes_per_graph\n",
    "\n",
    "    edge_tensor = torch.zeros((N, M, M), dtype=torch.float32)\n",
    "    edge_indx_tensor = torch.zeros((N, 2, connections * (connections - 1)), dtype=torch.int32)\n",
    "    edge_attr_matrix = torch.zeros((N, connections * (connections - 1), 1), dtype=torch.float32)\n",
    "\n",
    "    for mol in tqdm(range(N)):\n",
    "        positions = x_data[mol, :M, :3]\n",
    "        dist_matrix = torch.cdist(positions, positions)\n",
    "        edge_tensor[mol, :M, :M] = dist_matrix\n",
    "\n",
    "        edges_exist_at = torch.where(dist_matrix > 0)\n",
    "        edge_indx_tensor[mol, :, :edges_exist_at[0].shape[0]] = torch.stack(edges_exist_at).reshape(2, -1)\n",
    "        edge_attr_matrix[mol, :edges_exist_at[0].shape[0], 0] = dist_matrix[edges_exist_at].flatten()\n",
    "\n",
    "    edge_tensor = edge_tensor / edge_tensor.max()\n",
    "    edge_attr_matrix = edge_attr_matrix / edge_attr_matrix.max()\n",
    "\n",
    "    graph_help = torch.zeros((N, 2), dtype=torch.float32)\n",
    "    graph_help[:, 0] = (x_data[:, :M, 3] > 0).sum(dim=1)\n",
    "    graph_help[:, 1] = (edge_attr_matrix != 0).sum(dim=1).flatten()\n",
    "\n",
    "    print()\n",
    "    print('--- Calculating Quantum Hamiltonians ---')\n",
    "    quantum_hamiltonians = torch.zeros((N, 2, int(2**M), int(2**M)), dtype=torch.float32)\n",
    "\n",
    "    for idx in tqdm(range(N)):\n",
    "        quantum_hamiltonians[idx, 0, :, :] = create_hamiltonian_matrix_interaction(\n",
    "            nodes_per_graph, edge_indx_tensor[idx], edge_attr_matrix[idx]\n",
    "        )\n",
    "        quantum_hamiltonians[idx, 1, :, :] = create_hamiltonian_matrix_transverse(nodes_per_graph)\n",
    "\n",
    "    return (\n",
    "        x_data[:, :nodes_per_graph],\n",
    "        y_data.long(),\n",
    "        edge_tensor,\n",
    "        edge_indx_tensor.long(),\n",
    "        edge_attr_matrix,\n",
    "        graph_help,\n",
    "        quantum_hamiltonians,\n",
    "    )\n",
    "\n",
    "def create_hamiltonian_matrix_interaction(nodes_per_graph, edge_indx_tensor, edge_attr_matrix):\n",
    "    n_qubits = nodes_per_graph\n",
    "    full_matrix = np.zeros((2**n_qubits, 2**n_qubits))\n",
    "\n",
    "    term_dictionary = {\n",
    "        0: [np.identity(2), np.identity(2)],\n",
    "        1: [qml.matrix(qml.PauliZ)(0), qml.matrix(qml.PauliZ)(0)],\n",
    "    }\n",
    "\n",
    "    weights = edge_attr_matrix\n",
    "    fraction = 1.0 / 4.0\n",
    "    number_of_terms = len(term_dictionary)\n",
    "\n",
    "    for term in range(number_of_terms):\n",
    "        for i, edge in enumerate(edge_indx_tensor.T):\n",
    "            interaction_term = 1\n",
    "            for qubit in range(n_qubits):\n",
    "                if qubit in edge:\n",
    "                    if qubit == edge[0]:\n",
    "                        interaction_term = np.kron(interaction_term, term_dictionary[term][0])\n",
    "                    elif qubit == edge[1]:\n",
    "                        interaction_term = np.kron(interaction_term, term_dictionary[term][1])\n",
    "                else:\n",
    "                    interaction_term = np.kron(interaction_term, np.identity(2))\n",
    "\n",
    "            if np.all(term_dictionary[term][0] == qml.matrix(qml.PauliZ)(0)):\n",
    "                full_matrix += -fraction * weights[i].numpy() * interaction_term\n",
    "            else:\n",
    "                full_matrix += fraction * weights[i].numpy() * interaction_term\n",
    "\n",
    "    return torch.tensor(full_matrix, dtype=torch.float32)\n",
    "\n",
    "def create_hamiltonian_matrix_transverse(nodes_per_graph):\n",
    "    n_qubits = nodes_per_graph\n",
    "    full_matrix = np.zeros((2**n_qubits, 2**n_qubits))\n",
    "\n",
    "    for i in range(n_qubits):\n",
    "        x_term = 1\n",
    "        for j in range(n_qubits):\n",
    "            if j == i:\n",
    "                x_term = np.kron(x_term, qml.matrix(qml.PauliX)(0))\n",
    "            else:\n",
    "                x_term = np.kron(x_term, np.identity(2))\n",
    "        full_matrix += x_term\n",
    "\n",
    "    return torch.tensor(full_matrix, dtype=torch.float32)"
   ]
  },
  {
   "cell_type": "code",
   "execution_count": 9,
   "metadata": {},
   "outputs": [
    {
     "name": "stdout",
     "output_type": "stream",
     "text": [
      "--- Preprocessing Molecular Data ---\n",
      "\n",
      "--- Calculating Edge Tensors ---\n"
     ]
    },
    {
     "name": "stderr",
     "output_type": "stream",
     "text": [
      "100%|██████████| 100/100 [00:00<00:00, 2760.08it/s]\n"
     ]
    },
    {
     "name": "stdout",
     "output_type": "stream",
     "text": [
      "\n",
      "--- Calculating Quantum Hamiltonians ---\n"
     ]
    },
    {
     "name": "stderr",
     "output_type": "stream",
     "text": [
      "100%|██████████| 100/100 [00:00<00:00, 446.48it/s]\n"
     ]
    }
   ],
   "source": [
    "nodes_per_graph = 3\n",
    "x_data_proc, y_data_proc, edge_tensor, edge_indx_tensor, edge_attr_matrix, graph_help, quantum_hamiltonians = preprocess_molecular_data_quantum(x10_sorted_12500,y10_sorted_12500,nodes_per_graph = nodes_per_graph) #,masses[:N])\n",
    "N = x_data_proc.shape[0]"
   ]
  },
  {
   "cell_type": "code",
   "execution_count": 10,
   "metadata": {},
   "outputs": [
    {
     "name": "stdout",
     "output_type": "stream",
     "text": [
      "----- Check for the correctly sized tensors -----\n",
      "\n",
      "Jet Data: torch.Size([100, 3, 4])\n",
      "Classification: torch.Size([100])\n",
      "Full Edge Information: torch.Size([100, 3, 3])\n",
      "Edge Index Information: torch.Size([100, 2, 6])\n",
      "Edge Attribute Information: torch.Size([100, 6, 1])\n",
      "Graph Structure Information: torch.Size([100, 2])\n",
      "Quantum Information: torch.Size([100, 2, 8, 8])\n",
      "\n",
      "\n",
      "----- Check that each tensor is normalized -----\n",
      "\n",
      "Jet Data max: 1.0\n",
      "Classification Max: 1\n",
      "Edge Length Max: 1.0\n"
     ]
    }
   ],
   "source": [
    "print('----- Check for the correctly sized tensors -----')\n",
    "print()\n",
    "print(f'Jet Data: {x_data_proc.shape}')\n",
    "print(f'Classification: {y_data_proc.shape}')\n",
    "print(f'Full Edge Information: {edge_tensor.shape}')\n",
    "print(f'Edge Index Information: {edge_indx_tensor.shape}')\n",
    "print(f'Edge Attribute Information: {edge_attr_matrix.shape}')\n",
    "print(f'Graph Structure Information: {graph_help.shape}')\n",
    "print(f'Quantum Information: {quantum_hamiltonians.shape}')\n",
    "print('\\n')\n",
    "print('----- Check that each tensor is normalized -----')\n",
    "print()\n",
    "print(f'Jet Data max: {torch.max(x_data_proc)}')\n",
    "print(f'Classification Max: {torch.max(y_data_proc)}')\n",
    "print(f'Edge Length Max: {torch.max(edge_tensor)}')"
   ]
  },
  {
   "cell_type": "code",
   "execution_count": 104,
   "metadata": {},
   "outputs": [
    {
     "name": "stdout",
     "output_type": "stream",
     "text": [
      "----- Check the structure of the dataset -----\n",
      "\n",
      "Number of graphs (jets): 100\n",
      "Number of features per node (x,y,z,num_charge): 4\n",
      "Number of classes (2: Quarks or Gluons): 2\n",
      "\n",
      "----- Check the structure of one graph -----\n",
      "\n",
      "Number of nodes (particle IDs): 3\n",
      "Number of edges: 4.0\n",
      "Average node degree: 1.33\n",
      "Is undirected: True\n"
     ]
    }
   ],
   "source": [
    "print('----- Check the structure of the dataset -----')\n",
    "print()\n",
    "print(f'Number of graphs (jets): {x_data_proc.shape[0]}')\n",
    "print(r'Number of features per node (x,y,z,num_charge): '+f'{x_data_proc.shape[2]}')\n",
    "print(f'Number of classes (2: Quarks or Gluons): {np.unique(y_data_proc).shape[0]}')\n",
    "print()\n",
    "print('----- Check the structure of one graph -----')\n",
    "print()\n",
    "i=0\n",
    "number_of_edges = graph_help[i,1]\n",
    "# Gather some statistics about the first graph.\n",
    "print(f'Number of nodes (particle IDs): {x_data_proc[i,:,0].shape[0]}')\n",
    "print(f'Number of edges: {number_of_edges}')\n",
    "print(f'Average node degree: {number_of_edges / x_data_proc[i,:,0].shape[0]:.2f}')\n",
    "print(f'Is undirected: {True}')"
   ]
  },
  {
   "cell_type": "code",
   "execution_count": 105,
   "metadata": {},
   "outputs": [],
   "source": [
    "# Create a dataset class\n",
    "class Create_Dataset(Dataset):\n",
    "    def __init__(self, edge_index, x, edge_attr, y, graph_info, hamiltonians, transform=None):\n",
    "        self.edge_index = edge_index\n",
    "        self.x          = x\n",
    "        self.edge_attr  = edge_attr\n",
    "        self.y          = y\n",
    "        self.graph_info = graph_info\n",
    "        self.hamiltonians = hamiltonians\n",
    "        self.transform  = transform\n",
    "\n",
    "    def __len__(self):\n",
    "        return self.y.shape[0]\n",
    "\n",
    "    # Could also just define an x,y,z then pass these variables\n",
    "    # in the training functions over the loop for batch (actually think that way is easier to read)\n",
    "    def __getitem__(self, index):\n",
    "        sample = {'edge_index': self.edge_index[index,:,:], #self.graph_info[index,3]],\n",
    "                'x': self.x[index,:,:], #int(self.graph_info[index,2]),:],\n",
    "                'edge_attr': self.edge_attr[index,:], #self.graph_info[index,3]],\n",
    "                'hams': self.hamiltonians[index,:,:,:],\n",
    "                'y': self.y[index]  }\n",
    "\n",
    "        if self.transform is not None:\n",
    "            sample = self.transform(sample)\n",
    "\n",
    "        return sample"
   ]
  },
  {
   "cell_type": "code",
   "execution_count": 106,
   "metadata": {},
   "outputs": [
    {
     "name": "stderr",
     "output_type": "stream",
     "text": [
      "100%|██████████| 100/100 [00:00<?, ?it/s]"
     ]
    },
    {
     "name": "stdout",
     "output_type": "stream",
     "text": [
      "Number of training graphs: 80\n",
      "Number of validation graphs: 10\n",
      "Number of test graphs: 10\n"
     ]
    },
    {
     "name": "stderr",
     "output_type": "stream",
     "text": [
      "\n"
     ]
    }
   ],
   "source": [
    "train_index   = int(N*0.8)\n",
    "val_index    = int(N*0.9)\n",
    "batch_size = 1\n",
    "\n",
    "# Create Datasets for Torch for the training and testing pahses\n",
    "dataset = []\n",
    "for i in tqdm(range(N)):\n",
    "    dataset.append(Data(edge_index=edge_indx_tensor[i,:,:int(graph_help[i,1])],\n",
    "                        x=x_data_proc[i,:int(graph_help[i,0]),:],\n",
    "                        edge_attr=edge_attr_matrix[i,:int(graph_help[i,1])],\n",
    "                        y=y_data_proc[i],\n",
    "                        pos = quantum_hamiltonians[i,:]))\n",
    "\n",
    "training_data = dataset[:train_index]\n",
    "val_data      = dataset[train_index:val_index]\n",
    "test_data     = dataset[val_index:]\n",
    "# Create data loaders\n",
    "train_quantum_dataloader = DataLoader(training_data,\n",
    "                              batch_size = batch_size,\n",
    "                              shuffle = True,\n",
    "                              num_workers = 0)\n",
    "\n",
    "val_quantum_dataloader  = DataLoader(val_data,\n",
    "                              batch_size = batch_size,\n",
    "                              shuffle = False,\n",
    "                              num_workers = 0)\n",
    "\n",
    "test_quantum_dataloader  = DataLoader(test_data,\n",
    "                              batch_size = batch_size,\n",
    "                              shuffle = False,\n",
    "                              num_workers = 0)\n",
    "\n",
    "print(f'Number of training graphs: {train_index}')\n",
    "print(f'Number of validation graphs: {val_index-train_index}')\n",
    "print(f'Number of test graphs: {N-val_index}')"
   ]
  },
  {
   "cell_type": "code",
   "execution_count": 107,
   "metadata": {},
   "outputs": [
    {
     "name": "stdout",
     "output_type": "stream",
     "text": [
      "Using cuda device\n"
     ]
    }
   ],
   "source": [
    "# Get cpu or gpu device for training.\n",
    "device = \"cuda\" if torch.cuda.is_available() else \"cpu\"\n",
    "print(f\"Using {device} device\")"
   ]
  },
  {
   "cell_type": "code",
   "execution_count": 108,
   "metadata": {},
   "outputs": [],
   "source": [
    "def get_distance(tuple1,tuple2):\n",
    "    return np.sqrt((tuple1[0]-tuple2[0])**2+(tuple1[1]-tuple2[1])**2)"
   ]
  },
  {
   "cell_type": "code",
   "execution_count": 109,
   "metadata": {},
   "outputs": [
    {
     "data": {
      "text/plain": [
       "<matplotlib.legend.Legend at 0x1a6e5777250>"
      ]
     },
     "execution_count": 109,
     "metadata": {},
     "output_type": "execute_result"
    },
    {
     "data": {
      "image/png": "[encoded data removed]",
      "text/plain": [
       "<Figure size 400x300 with 1 Axes>"
      ]
     },
     "metadata": {},
     "output_type": "display_data"
    }
   ],
   "source": [
    "i=0\n",
    "j=1\n",
    "M = nodes_per_graph\n",
    "fig = plt.figure(figsize=(4,3))\n",
    "plt.scatter(x_data_proc[i,:,1],x_data_proc[i,:,2],c='r',s=10,label='Class '+str(y_data_proc[i].item()) ) #%(2*np.pi)\n",
    "plt.scatter(x_data_proc[j,:,1],x_data_proc[j,:,2],c='b',s=10,label='Class '+str(y_data_proc[j].item()) ) #%(2*np.pi)\n",
    "plt.title('Jet Cluster')\n",
    "plt.xlabel('Rapidity')\n",
    "plt.ylabel('Azimuthal Angle')\n",
    "plt.legend()"
   ]
  },
  {
   "cell_type": "code",
   "execution_count": 110,
   "metadata": {},
   "outputs": [],
   "source": [
    "i = 0\n",
    "pos = {j: (x_data_proc[i,j,1]%(2*np.pi), x_data_proc[i,j,2]%(2*np.pi)) for j in range(M)}\n",
    "make_jet_edges = [ (i,j) for i in pos for j in pos if i<j ]"
   ]
  },
  {
   "cell_type": "code",
   "execution_count": 111,
   "metadata": {},
   "outputs": [],
   "source": [
    "# number of qubits\n",
    "qubit_number = nodes_per_graph # M*2\n",
    "qubits = range(qubit_number)"
   ]
  },
  {
   "cell_type": "code",
   "execution_count": 112,
   "metadata": {},
   "outputs": [
    {
     "name": "stdout",
     "output_type": "stream",
     "text": [
      "3\n"
     ]
    }
   ],
   "source": [
    "print(qubit_number)"
   ]
  },
  {
   "cell_type": "code",
   "execution_count": 113,
   "metadata": {},
   "outputs": [
    {
     "data": {
      "image/png": "[encoded data removed]",
      "text/plain": [
       "<Figure size 640x480 with 1 Axes>"
      ]
     },
     "metadata": {},
     "output_type": "display_data"
    }
   ],
   "source": [
    "ising_graph = nx.DiGraph()\n",
    "ising_graph.add_nodes_from(pos)\n",
    "ising_graph.add_edges_from(make_jet_edges)\n",
    "nx.draw_networkx(ising_graph, pos, node_color='red', node_size=30,edgelist=make_jet_edges)"
   ]
  },
  {
   "cell_type": "code",
   "execution_count": 114,
   "metadata": {},
   "outputs": [],
   "source": [
    "term_dictionary = {0: [np.identity(2),np.identity(2)], 1: [qml.matrix(qml.PauliZ)(0), qml.matrix(qml.PauliZ)(0)]}"
   ]
  },
  {
   "cell_type": "code",
   "execution_count": 115,
   "metadata": {},
   "outputs": [],
   "source": [
    "graph = dataset[0]"
   ]
  },
  {
   "cell_type": "code",
   "execution_count": 116,
   "metadata": {},
   "outputs": [
    {
     "data": {
      "text/plain": [
       "torch.Size([2, 4])"
      ]
     },
     "execution_count": 116,
     "metadata": {},
     "output_type": "execute_result"
    }
   ],
   "source": [
    "graph.edge_index.shape"
   ]
  },
  {
   "cell_type": "code",
   "execution_count": 117,
   "metadata": {},
   "outputs": [
    {
     "data": {
      "text/plain": [
       "3"
      ]
     },
     "execution_count": 117,
     "metadata": {},
     "output_type": "execute_result"
    }
   ],
   "source": [
    "reg1 = copy.copy([i for i in range(nodes_per_graph) ])\n",
    "qubit_number"
   ]
  },
  {
   "cell_type": "code",
   "execution_count": 118,
   "metadata": {},
   "outputs": [],
   "source": [
    "def state_evolve(hamiltonian, qubits, eta, q):\n",
    "    U = torch.linalg.matrix_exp(-1j * eta * hamiltonian).cfloat()\n",
    "    U = q@U@q.T.conj()\n",
    "    qml.QubitUnitary(U, wires=qubits)\n",
    "\n",
    "def qgcnn(inputs,weights):\n",
    "    # ham_matrix1, ham_matrix2, tham_matrix1, tham_matrix2 = form_hamiltonians(graph1 = graphs[0], graph2 = graphs[1])\n",
    "    # Prepares the low energy state in the two registers\n",
    "    embedding_features = int(2**qubit_number)\n",
    "    low_energy_state = inputs[1,:embedding_features]\n",
    "    constant = torch.tensor([1.]).cfloat().to(device)\n",
    "    qml.QubitStateVector(torch.kron(low_energy_state,constant), wires=reg1)\n",
    "    # Evolves the first qubit register with the time-evolution circuit to\n",
    "    # prepare a piece of quantum data\n",
    "    inputs = inputs[0,:].reshape(batch_size,2,embedding_features,embedding_features)\n",
    "    if batch_size==1:\n",
    "        inputs = inputs.reshape(2,embedding_features,embedding_features)\n",
    "        coeffs = weights[:,:int(n_layers*2)].reshape(n_layers,2)\n",
    "        As = weights[:,int(n_layers*2):].reshape(n_layers,2,embedding_features,embedding_features)\n",
    "\n",
    "    for j in range(coeffs.shape[0]):\n",
    "      A = As[j,0,:,:].cfloat() + 1j*As[j,1,:,:].cfloat()\n",
    "      I = torch.eye(A.shape[0],dtype = torch.cfloat).to(device)\n",
    "      A = A + A.T.conj()\n",
    "      q = (A - 1j*I)@torch.linalg.inv(A + 1j*I)\n",
    "      if batch_size==1:\n",
    "          state_evolve(inputs[0,:,:],  reg1, coeffs[j,0], q )\n",
    "          state_evolve(inputs[1,:,:],  reg1, coeffs[j,1], q )\n",
    "      else:\n",
    "          state_evolve(inputs[:,0,:,:],  reg1, coeffs[j,0], q )\n",
    "          state_evolve(inputs[:,1,:,:],  reg1, coeffs[j,1], q )\n",
    "    return [qml.state()]\n",
    "\n",
    "# Define a custom complex activation function (nn.Module)\n",
    "class complex_activation(nn.Module):\n",
    "    def forward(self, x):\n",
    "        return nn.ReLU()(x.real) + 1.j * nn.ReLU()(x.imag)\n",
    "\n",
    "qgcnn_dev = qml.device('default.qubit', wires=qubit_number)#, shots=shots)\n",
    "# Defines the new QNode\n",
    "qgcnn_qnode = qml.QNode(qgcnn,\n",
    "                        device=qgcnn_dev,\n",
    "                        interface = 'torch', #,#interface='torch', #interface = 'autograd'\n",
    "                        diff_method='backprop')\n",
    "\n",
    "class eigs_fn_torch(nn.Module):\n",
    "    def forward(self, inputs, qstates_comp_basis):\n",
    "        # Compute rotation matrices and eigenvalues\n",
    "        qstates_comp_basis = qstates_comp_basis.flatten().cfloat()\n",
    "        qstates_density_matrix =  qstates_comp_basis@qstates_comp_basis.T\n",
    "        q,r = torch.linalg.qr(qstates_density_matrix)\n",
    "        coupling_ham = (inputs[0].reshape(2,int(2**nodes_per_graph),int(2**nodes_per_graph)) )[0,:,:].cfloat()\n",
    "        rotUC1 = q @ torch.linalg.matrix_exp( -1j * coupling_ham )\n",
    "        UC1eigs = torch.linalg.eigvals(rotUC1)\n",
    "        return qstates_comp_basis.reshape(1,qstates_comp_basis.shape[0]) #UC1eigs.reshape(1,UC1eigs.shape[0])\n",
    "\n",
    "class product_state(nn.Module):\n",
    "    def forward(self, qstates_comp_basis):\n",
    "        qstates_comp_basis = qstates_comp_basis.flatten().cfloat()\n",
    "        return qstates_comp_basis.reshape(1,qstates_comp_basis.shape[0])\n",
    "\n",
    "class construct_low_energy_state(nn.Module):\n",
    "    def forward(self, encoded_state):\n",
    "        term = torch.tensor([1.]).cfloat().to(device)\n",
    "        for i in range(encoded_state.shape[0]):\n",
    "            term = torch.kron(encoded_state[i,:],term)\n",
    "        normalize_factor = torch.sqrt(torch.abs(torch.conj(term)@term))\n",
    "        term = term/normalize_factor\n",
    "        return term"
   ]
  },
  {
   "cell_type": "code",
   "execution_count": 119,
   "metadata": {},
   "outputs": [],
   "source": [
    "def state_evolve(hamiltonian, qubits, eta, q):\n",
    "    U = torch.linalg.matrix_exp(-1j * eta * hamiltonian).cfloat()\n",
    "    U = q@U@q.T.conj()\n",
    "    qml.QubitUnitary(U, wires=qubits)\n",
    "\n",
    "def qgcnn(inputs,weights):\n",
    "    # ham_matrix1, ham_matrix2, tham_matrix1, tham_matrix2 = form_hamiltonians(graph1 = graphs[0], graph2 = graphs[1])\n",
    "    # Prepares the low energy state in the two registers\n",
    "    embedding_features = int(2**qubit_number)\n",
    "    low_energy_state = inputs[1,:embedding_features]\n",
    "    constant = torch.tensor([1.]).cfloat().to(device)\n",
    "    qml.QubitStateVector(torch.kron(low_energy_state,constant), wires=reg1)\n",
    "    # Evolves the first qubit register with the time-evolution circuit to\n",
    "    # prepare a piece of quantum data\n",
    "    inputs = inputs[0,:].reshape(batch_size,2,embedding_features,embedding_features)\n",
    "    if batch_size==1:\n",
    "        inputs = inputs.reshape(2,embedding_features,embedding_features)\n",
    "        coeffs = weights[:,:int(n_layers*2)].reshape(n_layers,2)\n",
    "        As = weights[:,int(n_layers*2):].reshape(n_layers,2,embedding_features,embedding_features)\n",
    "\n",
    "    for j in range(coeffs.shape[0]):\n",
    "      A = As[j,0,:,:].cfloat() + 1j*As[j,1,:,:].cfloat()\n",
    "      I = torch.eye(A.shape[0],dtype = torch.cfloat).to(device)\n",
    "      A = A + A.T.conj()\n",
    "      q = (A - 1j*I)@torch.linalg.inv(A + 1j*I)\n",
    "      if batch_size==1:\n",
    "          state_evolve(inputs[0,:,:],  reg1, coeffs[j,0], q )\n",
    "          state_evolve(inputs[1,:,:],  reg1, coeffs[j,1], q )\n",
    "      else:\n",
    "          state_evolve(inputs[:,0,:,:],  reg1, coeffs[j,0], q )\n",
    "          state_evolve(inputs[:,1,:,:],  reg1, coeffs[j,1], q )\n",
    "    return [qml.state()]\n",
    "\n",
    "# Define a custom complex activation function (nn.Module)\n",
    "class complex_activation(nn.Module):\n",
    "    def forward(self, x):\n",
    "        return nn.ReLU()(x.real) + 1.j * nn.ReLU()(x.imag)\n",
    "\n",
    "qgcnn_dev = qml.device('default.qubit', wires=qubit_number)#, shots=shots)\n",
    "# Defines the new QNode\n",
    "qgcnn_qnode = qml.QNode(qgcnn,\n",
    "                        device=qgcnn_dev,\n",
    "                        interface = 'torch', #,#interface='torch', #interface = 'autograd'\n",
    "                        diff_method='backprop')\n",
    "\n",
    "class eigs_fn_torch(nn.Module):\n",
    "    def forward(self, inputs, qstates_comp_basis):\n",
    "        # Compute rotation matrices and eigenvalues\n",
    "        qstates_comp_basis = qstates_comp_basis.flatten().cfloat()\n",
    "        qstates_density_matrix =  qstates_comp_basis@qstates_comp_basis.T\n",
    "        q,r = torch.linalg.qr(qstates_density_matrix)\n",
    "        coupling_ham = (inputs[0].reshape(2,int(2**nodes_per_graph),int(2**nodes_per_graph)) )[0,:,:].cfloat()\n",
    "        rotUC1 = q @ torch.linalg.matrix_exp( -1j * coupling_ham )\n",
    "        UC1eigs = torch.linalg.eigvals(rotUC1)\n",
    "        return qstates_comp_basis.reshape(1,qstates_comp_basis.shape[0]) #UC1eigs.reshape(1,UC1eigs.shape[0])\n",
    "\n",
    "class product_state(nn.Module):\n",
    "    def forward(self, qstates_comp_basis):\n",
    "        qstates_comp_basis = qstates_comp_basis.flatten().cfloat()\n",
    "        return qstates_comp_basis.reshape(1,qstates_comp_basis.shape[0])\n",
    "\n",
    "class construct_low_energy_state(nn.Module):\n",
    "    def forward(self, encoded_state):\n",
    "        term = torch.tensor([1.]).cfloat().to(device)\n",
    "        for i in range(encoded_state.shape[0]):\n",
    "            term = torch.kron(encoded_state[i,:],term)\n",
    "        normalize_factor = torch.sqrt(torch.abs(torch.conj(term)@term))\n",
    "        term = term/normalize_factor\n",
    "        return term"
   ]
  },
  {
   "cell_type": "code",
   "execution_count": 121,
   "metadata": {},
   "outputs": [],
   "source": [
    "class quantum_iso_model(torch.nn.Module):\n",
    "    def __init__(self, weight_shapes):\n",
    "        super().__init__()\n",
    "        # self.weights = torch.nn.Parameter(torch.randn(n_layers, gamma_and_eta))\n",
    "        # self.transform = torch.nn.Identity()\n",
    "        self.encoder = nn.Sequential( nn.Linear(x_data_proc.shape[2], 16, dtype=torch.cfloat),\n",
    "                                      complex_activation(),\n",
    "                                      nn.Linear(16, 16, dtype=torch.cfloat),\n",
    "                                      complex_activation(),\n",
    "                                      nn.Linear(16, 2, dtype=torch.cfloat) )\n",
    "\n",
    "        self.qlayer = qml.qnn.TorchLayer(qgcnn_qnode, weight_shapes)\n",
    "        self.eigs   = eigs_fn_torch()\n",
    "        self.product_state = product_state()\n",
    "        # self.eigenvalue_decomposition = eigenvalue_decomposition()\n",
    "        # self.qr_decomposition = qr_decomposition()\n",
    "        self.state  = construct_low_energy_state()\n",
    "\n",
    "        self.decoder = nn.Sequential( nn.Linear(1, 6*2**qubit_number, dtype=torch.cfloat),\n",
    "                                      complex_activation(),\n",
    "                                      nn.Linear(6*2**qubit_number, 4*2**qubit_number, dtype=torch.cfloat),\n",
    "                                      complex_activation(),\n",
    "                                      nn.Linear(4*2**qubit_number, 2, dtype=torch.cfloat) )\n",
    "\n",
    "    def forward(self, inputs, features):\n",
    "        embedding = self.encoder(features)\n",
    "        initial_state = self.state(embedding)\n",
    "        initial_state = nn.functional.pad(initial_state, (0,inputs.shape[1]-initial_state.shape[0]), mode='constant', value=0)\n",
    "        x = self.qlayer(torch.vstack([inputs,initial_state]))\n",
    "        x = self.product_state(x).sum(axis=1)/x.shape[1] # sum provides permutation equivariance\n",
    "        x = x.reshape(1,1)\n",
    "        # x = self.eigenvalue_decomposition(x)\n",
    "        # x = self.qr_decomposition(x)\n",
    "        h = self.decoder(x)\n",
    "        return (h*h.conj()).real"
   ]
  },
  {
   "cell_type": "code",
   "execution_count": 122,
   "metadata": {},
   "outputs": [],
   "source": [
    "def quantum_training(train_dataloader,\n",
    "                     val_dataloader,\n",
    "                     epochs,\n",
    "                     loss_fn,\n",
    "                     model,\n",
    "                     optimizer):\n",
    "\n",
    "    size = len(train_dataloader)\n",
    "    history = { 'train_loss':[],'train_acc':[],'val_loss':[],'val_acc':[]}\n",
    "\n",
    "    best_train_loss = torch.inf\n",
    "    best_val_loss = torch.inf\n",
    "    best_model = None\n",
    "    best_train_acc = 0.\n",
    "    best_val_acc = 0.\n",
    "    best_auc = 0.\n",
    "    best_epoch = 0\n",
    "    count = 0\n",
    "    current_val_loss = 0\n",
    "    best_auc = 0\n",
    "    size_val = len(val_dataloader)\n",
    "    first_idx = torch.arange(0,size_val)\n",
    "    start = time()\n",
    "    for epoch in tqdm(range(epochs)):\n",
    "        train_loss, train_acc, _ , _ = train(model, optimizer, epoch, train_dataloader, backprop=True)\n",
    "        val_loss, val_acc, val_label, val_pred = train(model, optimizer, epoch, val_dataloader, backprop=False)\n",
    "\n",
    "        y_score = val_pred[(first_idx,val_label.astype('int32'))]\n",
    "        auc_score = roc_auc_score(val_label, y_score)\n",
    "\n",
    "        history['train_loss'].append(train_loss)\n",
    "        history['train_acc'].append(train_acc)\n",
    "        history['val_loss'].append(val_loss)\n",
    "        history['val_acc'].append(val_acc)\n",
    "        print('\\n')\n",
    "\n",
    "        if val_loss <= best_val_loss:\n",
    "          best_train_loss = train_loss\n",
    "          best_val_loss = val_loss\n",
    "          best_train_acc = train_acc\n",
    "          best_val_acc = val_acc\n",
    "\n",
    "        if best_auc <= auc_score and epoch>=15:\n",
    "          # best_model = copy.deepcopy(model)\n",
    "          # best_model_wts = copy.deepcopy(model.state_dict())\n",
    "          best_auc = auc_score\n",
    "          print(f'Rerun and stop at epoch {epoch} to attain the best classifier.')\n",
    "\n",
    "          # best_model = copy.deepcopy(model)\n",
    "          # best_model_wts = copy.deepcopy(model.state_dict())\n",
    "          # if current_val_loss>best_val_loss:\n",
    "          #   count=0\n",
    "          # if count==0:\n",
    "          #   best_auc = auc_score\n",
    "          #   current_val_loss = best_val_loss\n",
    "          #   count+=1\n",
    "\n",
    "\n",
    "\n",
    "        if epoch % 1 == 0 or epoch==epochs-1: #args.test_interval == 0:\n",
    "          print(\"Epoch: %d |  Best Train Loss: %.8f | Best Val Loss: %.8f | Best Train Acc: %.8f | Best Val Acc: %.8f\" % (epoch, best_train_loss, best_val_loss, best_train_acc, best_val_acc))\n",
    "          print('Epoch: %d |  VAL AUC: %.8f \\n' % (epoch, auc_score))\n",
    "\n",
    "    end = time()\n",
    "    print(f'Training Complete. Total Time (s): {end-start}')\n",
    "    return {'model': best_model, 'history': history}\n",
    "\n",
    "\n",
    "def train(model, optimizer, epoch, loader, backprop=True):\n",
    "    size = len(loader)\n",
    "    num_correct = 0\n",
    "    running_loss = 0.\n",
    "    loss_list = []\n",
    "    if backprop:\n",
    "        model.train()\n",
    "    else:\n",
    "        model.eval()\n",
    "    all_labels = np.zeros((size,))\n",
    "    all_labels_pred = np.zeros((size,2))\n",
    "    for batch_idx, data in enumerate(loader):\n",
    "        if batch_idx==0:\n",
    "            node_size, n_feat = data[0].x.size()\n",
    "        batch_size = data.x.shape[0]//node_size\n",
    "        inputs = data.pos.reshape(1,128).to(device)#(bacth_size,2*int(2**node_size)*int(2**node_size)).to(device)\n",
    "        initial_node_features = data.x.cfloat().to(device)\n",
    "        # labels = data.y.long().reshape(batch_size,).to(device)\n",
    "        labels = data.y.long().reshape(1,).to(device)\n",
    "\n",
    "        labels_pred = model(inputs,initial_node_features)\n",
    "        loss = loss_fn(labels_pred,labels)\n",
    "        loss_list.append(loss.item())\n",
    "        optimizer.zero_grad()\n",
    "        if backprop:\n",
    "            loss.backward()\n",
    "            optimizer.step()\n",
    "        else:\n",
    "          all_labels[batch_idx] = labels\n",
    "          all_labels_pred[batch_idx] = labels_pred.detach().cpu()\n",
    "        num_correct += (labels_pred.argmax(dim=1)==labels).sum().int()\n",
    "        running_loss += loss.item()*batch_size\n",
    "\n",
    "    accuracy = num_correct / size\n",
    "    running_loss = running_loss/size\n",
    "\n",
    "    return running_loss, accuracy, all_labels, all_labels_pred"
   ]
  },
  {
   "cell_type": "code",
   "execution_count": 123,
   "metadata": {},
   "outputs": [],
   "source": [
    "seed = 3\n",
    "torch.manual_seed(seed)\n",
    "epochs = 16\n",
    "embedding_size = 2**qubit_number\n",
    "n_layers = 6\n",
    "matrix_params =  n_layers*embedding_size*embedding_size*2\n",
    "weight_shapes = {\"weights\": (1, n_layers*2 + matrix_params)}\n",
    "model = quantum_iso_model(weight_shapes).to(device)\n",
    "lr = 1e-3\n",
    "optimizer = torch.optim.Adam(model.parameters(), lr=lr)\n",
    "loss_fn = torch.nn.CrossEntropyLoss()"
   ]
  },
  {
   "cell_type": "code",
   "execution_count": 124,
   "metadata": {},
   "outputs": [],
   "source": [
    "count = 0\n",
    "for i,param in enumerate(model.parameters()):\n",
    "    if param.dtype==torch.complex64:\n",
    "        count+=torch.view_as_real(param).flatten().shape[0]\n",
    "    else:\n",
    "        count+=param.flatten().shape[0]"
   ]
  },
  {
   "cell_type": "code",
   "execution_count": 125,
   "metadata": {},
   "outputs": [
    {
     "name": "stdout",
     "output_type": "stream",
     "text": [
      "5012\n"
     ]
    }
   ],
   "source": [
    "print(count)"
   ]
  },
  {
   "cell_type": "code",
   "execution_count": 126,
   "metadata": {},
   "outputs": [
    {
     "data": {
      "text/plain": [
       "80"
      ]
     },
     "execution_count": 126,
     "metadata": {},
     "output_type": "execute_result"
    }
   ],
   "source": [
    "len(train_quantum_dataloader)"
   ]
  },
  {
   "cell_type": "code",
   "execution_count": 127,
   "metadata": {},
   "outputs": [
    {
     "name": "stderr",
     "output_type": "stream",
     "text": [
      "  6%|▋         | 1/16 [00:09<02:15,  9.03s/it]"
     ]
    },
    {
     "name": "stdout",
     "output_type": "stream",
     "text": [
      "\n",
      "\n",
      "Epoch: 0 |  Best Train Loss: 0.63644302 | Best Val Loss: 0.69251286 | Best Train Acc: 0.43750000 | Best Val Acc: 0.50000000\n",
      "Epoch: 0 |  VAL AUC: 1.00000000 \n",
      "\n"
     ]
    },
    {
     "name": "stderr",
     "output_type": "stream",
     "text": [
      " 12%|█▎        | 2/16 [00:18<02:10,  9.30s/it]"
     ]
    },
    {
     "name": "stdout",
     "output_type": "stream",
     "text": [
      "\n",
      "\n",
      "Epoch: 1 |  Best Train Loss: 0.63644302 | Best Val Loss: 0.69251286 | Best Train Acc: 0.43750000 | Best Val Acc: 0.50000000\n",
      "Epoch: 1 |  VAL AUC: 0.95833333 \n",
      "\n"
     ]
    },
    {
     "name": "stderr",
     "output_type": "stream",
     "text": [
      " 19%|█▉        | 3/16 [00:27<01:56,  8.94s/it]"
     ]
    },
    {
     "name": "stdout",
     "output_type": "stream",
     "text": [
      "\n",
      "\n",
      "Epoch: 2 |  Best Train Loss: 0.63644302 | Best Val Loss: 0.69251286 | Best Train Acc: 0.43750000 | Best Val Acc: 0.50000000\n",
      "Epoch: 2 |  VAL AUC: 0.29166667 \n",
      "\n"
     ]
    },
    {
     "name": "stderr",
     "output_type": "stream",
     "text": [
      " 25%|██▌       | 4/16 [00:35<01:47,  8.94s/it]"
     ]
    },
    {
     "name": "stdout",
     "output_type": "stream",
     "text": [
      "\n",
      "\n",
      "Epoch: 3 |  Best Train Loss: 0.63644302 | Best Val Loss: 0.69251286 | Best Train Acc: 0.43750000 | Best Val Acc: 0.50000000\n",
      "Epoch: 3 |  VAL AUC: 0.12500000 \n",
      "\n"
     ]
    },
    {
     "name": "stderr",
     "output_type": "stream",
     "text": [
      " 31%|███▏      | 5/16 [00:44<01:35,  8.69s/it]"
     ]
    },
    {
     "name": "stdout",
     "output_type": "stream",
     "text": [
      "\n",
      "\n",
      "Epoch: 4 |  Best Train Loss: 0.63644302 | Best Val Loss: 0.69251286 | Best Train Acc: 0.43750000 | Best Val Acc: 0.50000000\n",
      "Epoch: 4 |  VAL AUC: 0.54166667 \n",
      "\n"
     ]
    },
    {
     "name": "stderr",
     "output_type": "stream",
     "text": [
      " 38%|███▊      | 6/16 [00:52<01:25,  8.51s/it]"
     ]
    },
    {
     "name": "stdout",
     "output_type": "stream",
     "text": [
      "\n",
      "\n",
      "Epoch: 5 |  Best Train Loss: 0.63644302 | Best Val Loss: 0.69251286 | Best Train Acc: 0.43750000 | Best Val Acc: 0.50000000\n",
      "Epoch: 5 |  VAL AUC: 0.75000000 \n",
      "\n"
     ]
    },
    {
     "name": "stderr",
     "output_type": "stream",
     "text": [
      " 44%|████▍     | 7/16 [01:00<01:15,  8.41s/it]"
     ]
    },
    {
     "name": "stdout",
     "output_type": "stream",
     "text": [
      "\n",
      "\n",
      "Epoch: 6 |  Best Train Loss: 0.63644302 | Best Val Loss: 0.69251286 | Best Train Acc: 0.43750000 | Best Val Acc: 0.50000000\n",
      "Epoch: 6 |  VAL AUC: 0.58333333 \n",
      "\n"
     ]
    },
    {
     "name": "stderr",
     "output_type": "stream",
     "text": [
      " 50%|█████     | 8/16 [01:09<01:08,  8.58s/it]"
     ]
    },
    {
     "name": "stdout",
     "output_type": "stream",
     "text": [
      "\n",
      "\n",
      "Epoch: 7 |  Best Train Loss: 0.63644302 | Best Val Loss: 0.69251286 | Best Train Acc: 0.43750000 | Best Val Acc: 0.50000000\n",
      "Epoch: 7 |  VAL AUC: 0.45833333 \n",
      "\n"
     ]
    },
    {
     "name": "stderr",
     "output_type": "stream",
     "text": [
      " 56%|█████▋    | 9/16 [01:18<01:00,  8.63s/it]"
     ]
    },
    {
     "name": "stdout",
     "output_type": "stream",
     "text": [
      "\n",
      "\n",
      "Epoch: 8 |  Best Train Loss: 0.63644302 | Best Val Loss: 0.69251286 | Best Train Acc: 0.43750000 | Best Val Acc: 0.50000000\n",
      "Epoch: 8 |  VAL AUC: 0.00000000 \n",
      "\n"
     ]
    },
    {
     "name": "stderr",
     "output_type": "stream",
     "text": [
      " 62%|██████▎   | 10/16 [01:27<00:52,  8.68s/it]"
     ]
    },
    {
     "name": "stdout",
     "output_type": "stream",
     "text": [
      "\n",
      "\n",
      "Epoch: 9 |  Best Train Loss: 0.63469445 | Best Val Loss: 0.69121814 | Best Train Acc: 0.52500000 | Best Val Acc: 0.60000000\n",
      "Epoch: 9 |  VAL AUC: 1.00000000 \n",
      "\n"
     ]
    },
    {
     "name": "stderr",
     "output_type": "stream",
     "text": [
      " 69%|██████▉   | 11/16 [01:35<00:42,  8.58s/it]"
     ]
    },
    {
     "name": "stdout",
     "output_type": "stream",
     "text": [
      "\n",
      "\n",
      "Epoch: 10 |  Best Train Loss: 0.63469445 | Best Val Loss: 0.69121814 | Best Train Acc: 0.52500000 | Best Val Acc: 0.60000000\n",
      "Epoch: 10 |  VAL AUC: 0.08333333 \n",
      "\n"
     ]
    },
    {
     "name": "stderr",
     "output_type": "stream",
     "text": [
      " 75%|███████▌  | 12/16 [01:43<00:33,  8.43s/it]"
     ]
    },
    {
     "name": "stdout",
     "output_type": "stream",
     "text": [
      "\n",
      "\n",
      "Epoch: 11 |  Best Train Loss: 0.63469445 | Best Val Loss: 0.69121814 | Best Train Acc: 0.52500000 | Best Val Acc: 0.60000000\n",
      "Epoch: 11 |  VAL AUC: 0.58333333 \n",
      "\n"
     ]
    },
    {
     "name": "stderr",
     "output_type": "stream",
     "text": [
      " 81%|████████▏ | 13/16 [01:51<00:25,  8.36s/it]"
     ]
    },
    {
     "name": "stdout",
     "output_type": "stream",
     "text": [
      "\n",
      "\n",
      "Epoch: 12 |  Best Train Loss: 0.63469445 | Best Val Loss: 0.69121814 | Best Train Acc: 0.52500000 | Best Val Acc: 0.60000000\n",
      "Epoch: 12 |  VAL AUC: 0.83333333 \n",
      "\n"
     ]
    },
    {
     "name": "stderr",
     "output_type": "stream",
     "text": [
      " 88%|████████▊ | 14/16 [01:59<00:16,  8.30s/it]"
     ]
    },
    {
     "name": "stdout",
     "output_type": "stream",
     "text": [
      "\n",
      "\n",
      "Epoch: 13 |  Best Train Loss: 0.63469445 | Best Val Loss: 0.69121814 | Best Train Acc: 0.52500000 | Best Val Acc: 0.60000000\n",
      "Epoch: 13 |  VAL AUC: 1.00000000 \n",
      "\n"
     ]
    },
    {
     "name": "stderr",
     "output_type": "stream",
     "text": [
      " 94%|█████████▍| 15/16 [02:07<00:08,  8.24s/it]"
     ]
    },
    {
     "name": "stdout",
     "output_type": "stream",
     "text": [
      "\n",
      "\n",
      "Epoch: 14 |  Best Train Loss: 0.63469445 | Best Val Loss: 0.69121814 | Best Train Acc: 0.52500000 | Best Val Acc: 0.60000000\n",
      "Epoch: 14 |  VAL AUC: 0.00000000 \n",
      "\n"
     ]
    },
    {
     "name": "stderr",
     "output_type": "stream",
     "text": [
      "100%|██████████| 16/16 [02:16<00:00,  8.55s/it]"
     ]
    },
    {
     "name": "stdout",
     "output_type": "stream",
     "text": [
      "\n",
      "\n",
      "Rerun and stop at epoch 15 to attain the best classifier.\n",
      "Epoch: 15 |  Best Train Loss: 0.63469445 | Best Val Loss: 0.69121814 | Best Train Acc: 0.52500000 | Best Val Acc: 0.60000000\n",
      "Epoch: 15 |  VAL AUC: 0.45833333 \n",
      "\n",
      "Training Complete. Total Time (s): 136.81393671035767\n"
     ]
    },
    {
     "name": "stderr",
     "output_type": "stream",
     "text": [
      "\n"
     ]
    }
   ],
   "source": [
    "qgnn_model_and_history = quantum_training(train_quantum_dataloader,\n",
    "                             val_quantum_dataloader,\n",
    "                             epochs,\n",
    "                             loss_fn,\n",
    "                             model,\n",
    "                             optimizer)"
   ]
  },
  {
   "cell_type": "code",
   "execution_count": 129,
   "metadata": {},
   "outputs": [
    {
     "data": {
      "image/png": "[encoded data removed]",
      "text/plain": [
       "<Figure size 800x500 with 1 Axes>"
      ]
     },
     "metadata": {},
     "output_type": "display_data"
    }
   ],
   "source": [
    "train_acc = []\n",
    "for i,val in enumerate(qgnn_model_and_history['history']['train_acc']):\n",
    "    train_acc.append(val.cpu().detach().numpy())\n",
    "\n",
    "val_acc = []\n",
    "for i,val in enumerate(qgnn_model_and_history['history']['val_acc']):\n",
    "    val_acc.append(val.cpu().detach().numpy())\n",
    "\n",
    "plt.figure(figsize=(8,5))\n",
    "plt.plot(qgnn_model_and_history['history']['train_loss'],c='b',label=f'Train Loss ({train_index} jets)')\n",
    "plt.plot(qgnn_model_and_history['history']['val_loss'],c='darkorange',label=f'Val Loss ({val_index-train_index} jets)')\n",
    "plt.plot(train_acc,c='cyan',label='Train Accuracy')\n",
    "plt.plot(val_acc,c='orangered',label='Val Accuracy')\n",
    "plt.title(f'EQGNN\\n $|\\Theta| = {count}$,  $N_h={embedding_size}$,  $P={n_layers}$', fontsize=25)\n",
    "plt.xlabel('Epoch',fontsize=25)\n",
    "plt.ylabel('Loss/Accuracy',fontsize=25)\n",
    "plt.legend(fontsize = 13, loc = 'lower right')\n",
    "plt.xticks(fontsize=13,ticks=[i for i in range(0,epochs,2)])\n",
    "plt.yticks(fontsize=14)\n",
    "plt.ylim([0.40,0.76])\n",
    "plt.savefig(plot_path+f'eqgnn_training_{count}_{embedding_size}_{n_layers}_{seed}.png',bbox_inches='tight')"
   ]
  }
 ],
 "metadata": {
  "kernelspec": {
   "display_name": "pytorch",
   "language": "python",
   "name": "python3"
  },
  "language_info": {
   "codemirror_mode": {
    "name": "ipython",
    "version": 3
   },
   "file_extension": ".py",
   "mimetype": "text/x-python",
   "name": "python",
   "nbconvert_exporter": "python",
   "pygments_lexer": "ipython3",
   "version": "3.11.5"
  }
 },
 "nbformat": 4,
 "nbformat_minor": 2
}
